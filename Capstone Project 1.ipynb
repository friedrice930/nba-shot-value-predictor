{
 "cells": [
  {
   "cell_type": "code",
   "execution_count": 42,
   "metadata": {},
   "outputs": [],
   "source": [
    "import pandas as pd\n",
    "import numpy as np\n",
    "import matplotlib.pyplot as plt\n",
    "import scipy as sp\n",
    "import seaborn as sns\n",
    "import sklearn.model_selection\n",
    "from sklearn.model_selection import train_test_split, GridSearchCV\n",
    "from sklearn.decomposition import PCA\n",
    "from sklearn.pipeline import make_pipeline\n",
    "from sklearn.linear_model import LogisticRegression\n",
    "from sklearn.metrics import accuracy_score"
   ]
  },
  {
   "cell_type": "code",
   "execution_count": 2,
   "metadata": {
    "scrolled": false
   },
   "outputs": [
    {
     "data": {
      "text/plain": [
       "(128069, 21)"
      ]
     },
     "execution_count": 2,
     "metadata": {},
     "output_type": "execute_result"
    }
   ],
   "source": [
    "#import dataset and look at column names\n",
    "shot_orig = pd.read_csv('shot_logs.csv')\n",
    "shot_orig.shape"
   ]
  },
  {
   "cell_type": "code",
   "execution_count": 3,
   "metadata": {},
   "outputs": [
    {
     "data": {
      "text/plain": [
       "Index(['GAME_ID', 'MATCHUP', 'LOCATION', 'W', 'FINAL_MARGIN', 'SHOT_NUMBER',\n",
       "       'PERIOD', 'GAME_CLOCK', 'SHOT_CLOCK', 'DRIBBLES', 'TOUCH_TIME',\n",
       "       'SHOT_DIST', 'PTS_TYPE', 'SHOT_RESULT', 'CLOSEST_DEFENDER',\n",
       "       'CLOSEST_DEFENDER_PLAYER_ID', 'CLOSE_DEF_DIST', 'FGM', 'PTS',\n",
       "       'player_name', 'player_id'],\n",
       "      dtype='object')"
      ]
     },
     "execution_count": 3,
     "metadata": {},
     "output_type": "execute_result"
    }
   ],
   "source": [
    "shot_orig.columns"
   ]
  },
  {
   "cell_type": "code",
   "execution_count": 4,
   "metadata": {},
   "outputs": [
    {
     "data": {
      "text/html": [
       "<div>\n",
       "<style scoped>\n",
       "    .dataframe tbody tr th:only-of-type {\n",
       "        vertical-align: middle;\n",
       "    }\n",
       "\n",
       "    .dataframe tbody tr th {\n",
       "        vertical-align: top;\n",
       "    }\n",
       "\n",
       "    .dataframe thead th {\n",
       "        text-align: right;\n",
       "    }\n",
       "</style>\n",
       "<table border=\"1\" class=\"dataframe\">\n",
       "  <thead>\n",
       "    <tr style=\"text-align: right;\">\n",
       "      <th></th>\n",
       "      <th>SHOT_NUMBER</th>\n",
       "      <th>PERIOD</th>\n",
       "      <th>GAME_CLOCK</th>\n",
       "      <th>SHOT_CLOCK</th>\n",
       "      <th>DRIBBLES</th>\n",
       "      <th>TOUCH_TIME</th>\n",
       "      <th>SHOT_DIST</th>\n",
       "      <th>PTS_TYPE</th>\n",
       "      <th>SHOT_RESULT</th>\n",
       "      <th>CLOSE_DEF_DIST</th>\n",
       "      <th>PTS</th>\n",
       "    </tr>\n",
       "  </thead>\n",
       "  <tbody>\n",
       "    <tr>\n",
       "      <th>0</th>\n",
       "      <td>1</td>\n",
       "      <td>1</td>\n",
       "      <td>1:09</td>\n",
       "      <td>10.8</td>\n",
       "      <td>2</td>\n",
       "      <td>1.9</td>\n",
       "      <td>7.7</td>\n",
       "      <td>2</td>\n",
       "      <td>made</td>\n",
       "      <td>1.3</td>\n",
       "      <td>2</td>\n",
       "    </tr>\n",
       "    <tr>\n",
       "      <th>1</th>\n",
       "      <td>2</td>\n",
       "      <td>1</td>\n",
       "      <td>0:14</td>\n",
       "      <td>3.4</td>\n",
       "      <td>0</td>\n",
       "      <td>0.8</td>\n",
       "      <td>28.2</td>\n",
       "      <td>3</td>\n",
       "      <td>missed</td>\n",
       "      <td>6.1</td>\n",
       "      <td>0</td>\n",
       "    </tr>\n",
       "    <tr>\n",
       "      <th>2</th>\n",
       "      <td>3</td>\n",
       "      <td>1</td>\n",
       "      <td>0:00</td>\n",
       "      <td>NaN</td>\n",
       "      <td>3</td>\n",
       "      <td>2.7</td>\n",
       "      <td>10.1</td>\n",
       "      <td>2</td>\n",
       "      <td>missed</td>\n",
       "      <td>0.9</td>\n",
       "      <td>0</td>\n",
       "    </tr>\n",
       "    <tr>\n",
       "      <th>3</th>\n",
       "      <td>4</td>\n",
       "      <td>2</td>\n",
       "      <td>11:47</td>\n",
       "      <td>10.3</td>\n",
       "      <td>2</td>\n",
       "      <td>1.9</td>\n",
       "      <td>17.2</td>\n",
       "      <td>2</td>\n",
       "      <td>missed</td>\n",
       "      <td>3.4</td>\n",
       "      <td>0</td>\n",
       "    </tr>\n",
       "    <tr>\n",
       "      <th>4</th>\n",
       "      <td>5</td>\n",
       "      <td>2</td>\n",
       "      <td>10:34</td>\n",
       "      <td>10.9</td>\n",
       "      <td>2</td>\n",
       "      <td>2.7</td>\n",
       "      <td>3.7</td>\n",
       "      <td>2</td>\n",
       "      <td>missed</td>\n",
       "      <td>1.1</td>\n",
       "      <td>0</td>\n",
       "    </tr>\n",
       "  </tbody>\n",
       "</table>\n",
       "</div>"
      ],
      "text/plain": [
       "   SHOT_NUMBER  PERIOD GAME_CLOCK  SHOT_CLOCK  DRIBBLES  TOUCH_TIME  \\\n",
       "0            1       1       1:09        10.8         2         1.9   \n",
       "1            2       1       0:14         3.4         0         0.8   \n",
       "2            3       1       0:00         NaN         3         2.7   \n",
       "3            4       2      11:47        10.3         2         1.9   \n",
       "4            5       2      10:34        10.9         2         2.7   \n",
       "\n",
       "   SHOT_DIST  PTS_TYPE SHOT_RESULT  CLOSE_DEF_DIST  PTS  \n",
       "0        7.7         2        made             1.3    2  \n",
       "1       28.2         3      missed             6.1    0  \n",
       "2       10.1         2      missed             0.9    0  \n",
       "3       17.2         2      missed             3.4    0  \n",
       "4        3.7         2      missed             1.1    0  "
      ]
     },
     "execution_count": 4,
     "metadata": {},
     "output_type": "execute_result"
    }
   ],
   "source": [
    "# Get rid of game_id as it will not contribute my final model\n",
    "\n",
    "# Get rid of win and final_margin as they are only known after a game is over,\n",
    "# and I am trying to model shots taken during a game, so they would not contribute to my final.  \n",
    "\n",
    "# Get rid of player_name, player_id, closest_defender, closest_defender_player_id,matchup, location because\n",
    "# these are NBA specific, and I would like to generalize to all basketball games.\n",
    "\n",
    "pre_shot = shot_orig.loc[: , ['SHOT_NUMBER', 'PERIOD', 'GAME_CLOCK', 'SHOT_CLOCK', 'DRIBBLES', 'TOUCH_TIME',\n",
    "                     'SHOT_DIST', 'PTS_TYPE', 'SHOT_RESULT', 'CLOSE_DEF_DIST', 'PTS']]\n",
    "pre_shot.head()"
   ]
  },
  {
   "cell_type": "code",
   "execution_count": 5,
   "metadata": {},
   "outputs": [],
   "source": [
    "# find if game_clock refers to the time left in the whole game, or just the period\n",
    "#pre_shot.GAME_CLOCK\n",
    "\n",
    "# it seems that none of the time goes above 12, so game_clock refers to just the period"
   ]
  },
  {
   "cell_type": "markdown",
   "metadata": {},
   "source": [
    "Creating a table based off of shot.dtypes:\n",
    "\n",
    "| Data Column     | Type        |\n",
    "| ------------- |:-------------:|\n",
    "|SHOT_NUMBER   | int64 |\n",
    "| PERIOD    | int64     |\n",
    "| GAME_CLOCK | object     |\n",
    "| SHOT_CLOCK| float64      |\n",
    "| DRIBBLES | int64      |\n",
    "| TOUCH_TIME |float64     |\n",
    "| SHOT_DIST| float64     |\n",
    "| PTS_TYPE| int64   |\n",
    "| SHOT_RESULT | object    |\n",
    "| CLOSE_DEF_DIST| float64     |\n",
    "| PTS | int64    |\n",
    "\n",
    "Everything is numeric except for GAME_CLOCK and SHOT_RESULT"
   ]
  },
  {
   "cell_type": "code",
   "execution_count": 6,
   "metadata": {
    "scrolled": false
   },
   "outputs": [
    {
     "data": {
      "text/plain": [
       "numpy.float64"
      ]
     },
     "execution_count": 6,
     "metadata": {},
     "output_type": "execute_result"
    }
   ],
   "source": [
    "# convert game_clock to float\n",
    "#first replace the colon with a period\n",
    "pre_shot.GAME_CLOCK = pre_shot.GAME_CLOCK.str.replace(':', '.', regex=True)\n",
    "\n",
    "#convert game_clock into float\n",
    "pre_shot.GAME_CLOCK = pre_shot.GAME_CLOCK.astype('float')\n",
    "type(pre_shot.GAME_CLOCK[1])\n"
   ]
  },
  {
   "cell_type": "code",
   "execution_count": 7,
   "metadata": {},
   "outputs": [],
   "source": [
    "#convert shot_result to bool. 1 if made, 0 if missed\n",
    "pre_shot.SHOT_RESULT = pre_shot.SHOT_RESULT == 'made'"
   ]
  },
  {
   "cell_type": "code",
   "execution_count": 8,
   "metadata": {
    "scrolled": true
   },
   "outputs": [
    {
     "data": {
      "text/html": [
       "<div>\n",
       "<style scoped>\n",
       "    .dataframe tbody tr th:only-of-type {\n",
       "        vertical-align: middle;\n",
       "    }\n",
       "\n",
       "    .dataframe tbody tr th {\n",
       "        vertical-align: top;\n",
       "    }\n",
       "\n",
       "    .dataframe thead th {\n",
       "        text-align: right;\n",
       "    }\n",
       "</style>\n",
       "<table border=\"1\" class=\"dataframe\">\n",
       "  <thead>\n",
       "    <tr style=\"text-align: right;\">\n",
       "      <th></th>\n",
       "      <th>SHOT_NUMBER</th>\n",
       "      <th>PERIOD</th>\n",
       "      <th>GAME_CLOCK</th>\n",
       "      <th>SHOT_CLOCK</th>\n",
       "      <th>DRIBBLES</th>\n",
       "      <th>TOUCH_TIME</th>\n",
       "      <th>SHOT_DIST</th>\n",
       "      <th>PTS_TYPE</th>\n",
       "      <th>SHOT_RESULT</th>\n",
       "      <th>CLOSE_DEF_DIST</th>\n",
       "      <th>PTS</th>\n",
       "    </tr>\n",
       "  </thead>\n",
       "  <tbody>\n",
       "    <tr>\n",
       "      <th>count</th>\n",
       "      <td>128069.000000</td>\n",
       "      <td>128069.000000</td>\n",
       "      <td>128069.000000</td>\n",
       "      <td>122502.000000</td>\n",
       "      <td>128069.000000</td>\n",
       "      <td>128069.000000</td>\n",
       "      <td>128069.000000</td>\n",
       "      <td>128069.000000</td>\n",
       "      <td>128069</td>\n",
       "      <td>128069.000000</td>\n",
       "      <td>128069.000000</td>\n",
       "    </tr>\n",
       "    <tr>\n",
       "      <th>unique</th>\n",
       "      <td>NaN</td>\n",
       "      <td>NaN</td>\n",
       "      <td>NaN</td>\n",
       "      <td>NaN</td>\n",
       "      <td>NaN</td>\n",
       "      <td>NaN</td>\n",
       "      <td>NaN</td>\n",
       "      <td>NaN</td>\n",
       "      <td>2</td>\n",
       "      <td>NaN</td>\n",
       "      <td>NaN</td>\n",
       "    </tr>\n",
       "    <tr>\n",
       "      <th>top</th>\n",
       "      <td>NaN</td>\n",
       "      <td>NaN</td>\n",
       "      <td>NaN</td>\n",
       "      <td>NaN</td>\n",
       "      <td>NaN</td>\n",
       "      <td>NaN</td>\n",
       "      <td>NaN</td>\n",
       "      <td>NaN</td>\n",
       "      <td>False</td>\n",
       "      <td>NaN</td>\n",
       "      <td>NaN</td>\n",
       "    </tr>\n",
       "    <tr>\n",
       "      <th>freq</th>\n",
       "      <td>NaN</td>\n",
       "      <td>NaN</td>\n",
       "      <td>NaN</td>\n",
       "      <td>NaN</td>\n",
       "      <td>NaN</td>\n",
       "      <td>NaN</td>\n",
       "      <td>NaN</td>\n",
       "      <td>NaN</td>\n",
       "      <td>70164</td>\n",
       "      <td>NaN</td>\n",
       "      <td>NaN</td>\n",
       "    </tr>\n",
       "    <tr>\n",
       "      <th>mean</th>\n",
       "      <td>6.506899</td>\n",
       "      <td>2.469427</td>\n",
       "      <td>5.663617</td>\n",
       "      <td>12.453344</td>\n",
       "      <td>2.023355</td>\n",
       "      <td>2.765901</td>\n",
       "      <td>13.571504</td>\n",
       "      <td>2.264670</td>\n",
       "      <td>NaN</td>\n",
       "      <td>4.123015</td>\n",
       "      <td>0.997314</td>\n",
       "    </tr>\n",
       "    <tr>\n",
       "      <th>std</th>\n",
       "      <td>4.713260</td>\n",
       "      <td>1.139919</td>\n",
       "      <td>3.451461</td>\n",
       "      <td>5.763265</td>\n",
       "      <td>3.477760</td>\n",
       "      <td>3.043682</td>\n",
       "      <td>8.888964</td>\n",
       "      <td>0.441159</td>\n",
       "      <td>NaN</td>\n",
       "      <td>2.756446</td>\n",
       "      <td>1.130978</td>\n",
       "    </tr>\n",
       "    <tr>\n",
       "      <th>min</th>\n",
       "      <td>1.000000</td>\n",
       "      <td>1.000000</td>\n",
       "      <td>0.000000</td>\n",
       "      <td>0.000000</td>\n",
       "      <td>0.000000</td>\n",
       "      <td>-163.600000</td>\n",
       "      <td>0.000000</td>\n",
       "      <td>2.000000</td>\n",
       "      <td>NaN</td>\n",
       "      <td>0.000000</td>\n",
       "      <td>0.000000</td>\n",
       "    </tr>\n",
       "    <tr>\n",
       "      <th>25%</th>\n",
       "      <td>3.000000</td>\n",
       "      <td>1.000000</td>\n",
       "      <td>2.520000</td>\n",
       "      <td>8.200000</td>\n",
       "      <td>0.000000</td>\n",
       "      <td>0.900000</td>\n",
       "      <td>4.700000</td>\n",
       "      <td>2.000000</td>\n",
       "      <td>NaN</td>\n",
       "      <td>2.300000</td>\n",
       "      <td>0.000000</td>\n",
       "    </tr>\n",
       "    <tr>\n",
       "      <th>50%</th>\n",
       "      <td>5.000000</td>\n",
       "      <td>2.000000</td>\n",
       "      <td>5.520000</td>\n",
       "      <td>12.300000</td>\n",
       "      <td>1.000000</td>\n",
       "      <td>1.600000</td>\n",
       "      <td>13.700000</td>\n",
       "      <td>2.000000</td>\n",
       "      <td>NaN</td>\n",
       "      <td>3.700000</td>\n",
       "      <td>0.000000</td>\n",
       "    </tr>\n",
       "    <tr>\n",
       "      <th>75%</th>\n",
       "      <td>9.000000</td>\n",
       "      <td>3.000000</td>\n",
       "      <td>8.510000</td>\n",
       "      <td>16.675000</td>\n",
       "      <td>2.000000</td>\n",
       "      <td>3.700000</td>\n",
       "      <td>22.500000</td>\n",
       "      <td>3.000000</td>\n",
       "      <td>NaN</td>\n",
       "      <td>5.300000</td>\n",
       "      <td>2.000000</td>\n",
       "    </tr>\n",
       "    <tr>\n",
       "      <th>max</th>\n",
       "      <td>38.000000</td>\n",
       "      <td>7.000000</td>\n",
       "      <td>12.000000</td>\n",
       "      <td>24.000000</td>\n",
       "      <td>32.000000</td>\n",
       "      <td>24.900000</td>\n",
       "      <td>47.200000</td>\n",
       "      <td>3.000000</td>\n",
       "      <td>NaN</td>\n",
       "      <td>53.200000</td>\n",
       "      <td>3.000000</td>\n",
       "    </tr>\n",
       "  </tbody>\n",
       "</table>\n",
       "</div>"
      ],
      "text/plain": [
       "          SHOT_NUMBER         PERIOD     GAME_CLOCK     SHOT_CLOCK  \\\n",
       "count   128069.000000  128069.000000  128069.000000  122502.000000   \n",
       "unique            NaN            NaN            NaN            NaN   \n",
       "top               NaN            NaN            NaN            NaN   \n",
       "freq              NaN            NaN            NaN            NaN   \n",
       "mean         6.506899       2.469427       5.663617      12.453344   \n",
       "std          4.713260       1.139919       3.451461       5.763265   \n",
       "min          1.000000       1.000000       0.000000       0.000000   \n",
       "25%          3.000000       1.000000       2.520000       8.200000   \n",
       "50%          5.000000       2.000000       5.520000      12.300000   \n",
       "75%          9.000000       3.000000       8.510000      16.675000   \n",
       "max         38.000000       7.000000      12.000000      24.000000   \n",
       "\n",
       "             DRIBBLES     TOUCH_TIME      SHOT_DIST       PTS_TYPE  \\\n",
       "count   128069.000000  128069.000000  128069.000000  128069.000000   \n",
       "unique            NaN            NaN            NaN            NaN   \n",
       "top               NaN            NaN            NaN            NaN   \n",
       "freq              NaN            NaN            NaN            NaN   \n",
       "mean         2.023355       2.765901      13.571504       2.264670   \n",
       "std          3.477760       3.043682       8.888964       0.441159   \n",
       "min          0.000000    -163.600000       0.000000       2.000000   \n",
       "25%          0.000000       0.900000       4.700000       2.000000   \n",
       "50%          1.000000       1.600000      13.700000       2.000000   \n",
       "75%          2.000000       3.700000      22.500000       3.000000   \n",
       "max         32.000000      24.900000      47.200000       3.000000   \n",
       "\n",
       "       SHOT_RESULT  CLOSE_DEF_DIST            PTS  \n",
       "count       128069   128069.000000  128069.000000  \n",
       "unique           2             NaN            NaN  \n",
       "top          False             NaN            NaN  \n",
       "freq         70164             NaN            NaN  \n",
       "mean           NaN        4.123015       0.997314  \n",
       "std            NaN        2.756446       1.130978  \n",
       "min            NaN        0.000000       0.000000  \n",
       "25%            NaN        2.300000       0.000000  \n",
       "50%            NaN        3.700000       0.000000  \n",
       "75%            NaN        5.300000       2.000000  \n",
       "max            NaN       53.200000       3.000000  "
      ]
     },
     "execution_count": 8,
     "metadata": {},
     "output_type": "execute_result"
    }
   ],
   "source": [
    "pre_shot.describe(include = 'all')"
   ]
  },
  {
   "cell_type": "markdown",
   "metadata": {},
   "source": [
    "Curiously enough, there seems to be a minimum touch time of -163.6, which would clearly be a mistake in the data, as it is impossibe for touch time to be in the negatives.  Some further exploration is required."
   ]
  },
  {
   "cell_type": "code",
   "execution_count": 9,
   "metadata": {},
   "outputs": [
    {
     "data": {
      "text/plain": [
       "312"
      ]
     },
     "execution_count": 9,
     "metadata": {},
     "output_type": "execute_result"
    }
   ],
   "source": [
    "len(pre_shot[pre_shot.TOUCH_TIME < 0])"
   ]
  },
  {
   "cell_type": "markdown",
   "metadata": {},
   "source": [
    "Even with only 312 values of touch_time under 0, I decided against deleting all rows were touch time is under 0.  Instead, I will hold onto these values a bit longer and fix them later."
   ]
  },
  {
   "cell_type": "markdown",
   "metadata": {},
   "source": [
    "Before further analysis, I will make sure that the distances for 3 point shots and 2 point shots are accurate.  Given how the minimum distance from the hoop to the 3 point line is 22 feet, and the maximum is 23.75, there should ideally be no distances over 23.75 feet for 2 point shots and no distances under 22 feet for 3 point shots.  It is entirely possible, however, that sometimes a player may jump from behind the line and shoot in front of the line, which would decrease the shot distance, but still be a valid 3 point shot.  Therefore, I will set a cutoff at 19 feet for 3 point shots, meaning all distances under 19 feet will be incorrectly labeled as a 3 point shot.\n",
    "\n",
    "With 2 point shots, it is also possible for players to jump from in front of the 3 point line and shoot the ball behind the line, but that distance should not be nearly as big as jumping forward from behind the line, so I will set a cutoff of 2 point shots at 25, where all distances above 25 feet will be incorrectly labeled as a 2 point shot."
   ]
  },
  {
   "cell_type": "code",
   "execution_count": 10,
   "metadata": {},
   "outputs": [
    {
     "name": "stdout",
     "output_type": "stream",
     "text": [
      "Number of incorrectly labeled 2 point shots is 112\n",
      "Number of incorrectly labeled 3 point shots is 88\n"
     ]
    }
   ],
   "source": [
    "#create a data frame for just 2 point shots and another for just 3 point shots\n",
    "\n",
    "pre_shot2 = pre_shot[pre_shot['PTS_TYPE'] == 2]\n",
    "pre_shot3 = pre_shot[pre_shot['PTS_TYPE'] == 3]\n",
    "\n",
    "# data frame for incorrect distances\n",
    "pre_incorrect2 = pre_shot2[pre_shot2['SHOT_DIST'] > 25]\n",
    "pre_incorrect3 = pre_shot3[pre_shot3['SHOT_DIST'] < 19]\n",
    "print(\"Number of incorrectly labeled 2 point shots is\", len(pre_incorrect2))\n",
    "print(\"Number of incorrectly labeled 3 point shots is\", len(pre_incorrect3))"
   ]
  },
  {
   "cell_type": "markdown",
   "metadata": {},
   "source": [
    "For a dataset with 128 thousand rows, these 200 observations isn't too bad.  These observations will be dealt with in a bit."
   ]
  },
  {
   "cell_type": "code",
   "execution_count": 11,
   "metadata": {
    "scrolled": true
   },
   "outputs": [],
   "source": [
    "misvals = pd.DataFrame(pd.DataFrame(pre_shot.describe(include = 'all')).iloc[0, :])\n",
    "misvals['percentage of missing values'] = (128069 - misvals['count']) / 128069"
   ]
  },
  {
   "cell_type": "markdown",
   "metadata": {},
   "source": [
    "Creating a table based off of misvals: \n",
    "\n",
    "| Data Column     | percentage of missing values      |\n",
    "| ------------- |:-------------:|\n",
    "|SHOT_NUMBER   | 0|\n",
    "| PERIOD    | 0   |\n",
    "| GAME_CLOCK | 0    |\n",
    "| SHOT_CLOCK|0.0434688  |\n",
    "| DRIBBLES | 0    |\n",
    "| TOUCH_TIME |0   |\n",
    "| SHOT_DIST| 0   |\n",
    "| PTS_TYPE| 0   |\n",
    "| SHOT_RESULT | 0  |\n",
    "| CLOSE_DEF_DIST|0   |\n",
    "| PTS |0   |\n",
    "\n",
    "\n",
    "It seems that all columns except for shot_clock have the full 128069 values.  Shot_clock is only missing less than 5% of its values, so dropping the column would not be considered."
   ]
  },
  {
   "cell_type": "markdown",
   "metadata": {},
   "source": [
    "At this point, it seems that there are 3 columns that need cleaning: shot_clock is missing values, touch_time has some nonsensical values, and the pts_type do not completely align with all the shot_dist.  I will proceed by dropping all rows containing 2 or all of these errors.  I chose to do so with only 2 or more errors because, with that many errors, the observation becomes too unreliable.  However, for an observation with only 1 error, I would only need to make adjustments to one variable, which will lead to a less bias in the final model compared to adjustments to multiple variables."
   ]
  },
  {
   "cell_type": "code",
   "execution_count": 12,
   "metadata": {
    "scrolled": true
   },
   "outputs": [
    {
     "name": "stdout",
     "output_type": "stream",
     "text": [
      "200 observations that have discrepancy in shot distance \n",
      "5567 observations that have a missing shot clock value\n",
      "312 observations have negative touch times\n",
      "60 observations have a discrepancy in shot distance and a missing shot clock\n",
      "7 observations have a discrepancy in shot distance and a negative touch time\n",
      "13 observations have a missing shot clock and a negative touch time\n",
      "0 observations have all three errors\n"
     ]
    }
   ],
   "source": [
    "# make array that returns true if there is a discrepancy\n",
    "pre_discrep2 = (pre_shot.PTS_TYPE == 2) & (pre_shot.SHOT_DIST > 25)\n",
    "pre_discrep3 = (pre_shot.PTS_TYPE == 3) & (pre_shot.SHOT_DIST < 19)\n",
    "x = pre_discrep2 | pre_discrep3\n",
    "print(sum(x), 'observations that have discrepancy in shot distance ')\n",
    "\n",
    "#array that returns true if there is a missing shot clock value\n",
    "y = (pre_shot.SHOT_CLOCK != pre_shot.SHOT_CLOCK)\n",
    "print(sum(y), 'observations that have a missing shot clock value')\n",
    "\n",
    "# array that returns true if touch time is less than 0\n",
    "z = (pre_shot.TOUCH_TIME < 0)\n",
    "print(sum(z), 'observations have negative touch times')\n",
    "\n",
    "print(sum(x & y), 'observations have a discrepancy in shot distance and a missing shot clock')\n",
    "print(sum(x & z), 'observations have a discrepancy in shot distance and a negative touch time')\n",
    "print(sum(y & z), 'observations have a missing shot clock and a negative touch time')\n",
    "print(sum(x & y & z), 'observations have all three errors')"
   ]
  },
  {
   "cell_type": "markdown",
   "metadata": {},
   "source": [
    "Because no observations have all 3 errors, we can add up the last 4 sums to get 80, meaning we should filter out, in total, 80 observations from the original dataset."
   ]
  },
  {
   "cell_type": "code",
   "execution_count": 13,
   "metadata": {
    "scrolled": true
   },
   "outputs": [
    {
     "name": "stdout",
     "output_type": "stream",
     "text": [
      "80 observations are have 2 or more of these errors\n"
     ]
    },
    {
     "data": {
      "text/plain": [
       "True"
      ]
     },
     "execution_count": 13,
     "metadata": {},
     "output_type": "execute_result"
    }
   ],
   "source": [
    "# filtering for observations with 2 or more of these errors\n",
    "xyz = (x & y) | (x & z) | (y & z) | (x & y & z)\n",
    "print(sum(xyz), 'observations are have 2 or more of these errors')\n",
    "\n",
    "#make an array that returns false if the observation has 2 or more of these errors\n",
    "filt = [not i for i in xyz]\n",
    "shot = pre_shot[filt]\n",
    "\n",
    "#make sure that the new data frame length plus the filtered out observations equals the original data frame length\n",
    "len(shot) + sum(xyz) == len(pre_shot)"
   ]
  },
  {
   "cell_type": "markdown",
   "metadata": {},
   "source": [
    "After dropping all of these observations, I will now fix the observations that contain only one of these errors."
   ]
  },
  {
   "cell_type": "code",
   "execution_count": 14,
   "metadata": {
    "scrolled": true
   },
   "outputs": [
    {
     "name": "stderr",
     "output_type": "stream",
     "text": [
      "/Users/ray/anaconda3/lib/python3.6/site-packages/ipykernel_launcher.py:4: SettingWithCopyWarning: \n",
      "A value is trying to be set on a copy of a slice from a DataFrame\n",
      "\n",
      "See the caveats in the documentation: http://pandas.pydata.org/pandas-docs/stable/indexing.html#indexing-view-versus-copy\n",
      "  after removing the cwd from sys.path.\n",
      "/Users/ray/anaconda3/lib/python3.6/site-packages/pandas/core/generic.py:7620: SettingWithCopyWarning: \n",
      "A value is trying to be set on a copy of a slice from a DataFrame\n",
      "\n",
      "See the caveats in the documentation: http://pandas.pydata.org/pandas-docs/stable/indexing.html#indexing-view-versus-copy\n",
      "  self._update_inplace(new_data)\n",
      "/Users/ray/anaconda3/lib/python3.6/site-packages/IPython/core/interactiveshell.py:2963: SettingWithCopyWarning: \n",
      "A value is trying to be set on a copy of a slice from a DataFrame\n",
      "\n",
      "See the caveats in the documentation: http://pandas.pydata.org/pandas-docs/stable/indexing.html#indexing-view-versus-copy\n",
      "  exec(code_obj, self.user_global_ns, self.user_ns)\n"
     ]
    }
   ],
   "source": [
    "# I will change the negative touch_time values to 0, as that is the minimum\n",
    "# amount of time that a player can hold the ball.\n",
    "\n",
    "shot.TOUCH_TIME[shot.TOUCH_TIME < 0] = 0"
   ]
  },
  {
   "cell_type": "code",
   "execution_count": 15,
   "metadata": {},
   "outputs": [
    {
     "name": "stdout",
     "output_type": "stream",
     "text": [
      "5494 observations have missing shot_value, which is 4.2925563915649 % of number of observations\n"
     ]
    }
   ],
   "source": [
    "# find out how many NaN are in shot_clock for the filtered data frame\n",
    "print(sum(shot.SHOT_CLOCK.isna()), 'observations have missing shot_value, which is', \n",
    "          sum(shot.SHOT_CLOCK.isna()) / len(shot.SHOT_CLOCK) * 100, '% of number of observations')"
   ]
  },
  {
   "cell_type": "markdown",
   "metadata": {},
   "source": [
    "With only less than 5% of data missing, I will impute the missing data with the mean, as doing so will not contribute to too much bias in the final model."
   ]
  },
  {
   "cell_type": "code",
   "execution_count": 16,
   "metadata": {
    "scrolled": false
   },
   "outputs": [
    {
     "name": "stderr",
     "output_type": "stream",
     "text": [
      "/Users/ray/anaconda3/lib/python3.6/site-packages/pandas/core/frame.py:3137: SettingWithCopyWarning: \n",
      "A value is trying to be set on a copy of a slice from a DataFrame.\n",
      "Try using .loc[row_indexer,col_indexer] = value instead\n",
      "\n",
      "See the caveats in the documentation: http://pandas.pydata.org/pandas-docs/stable/indexing.html#indexing-view-versus-copy\n",
      "  self[k1] = value[k2]\n"
     ]
    }
   ],
   "source": [
    "#fill the NaN in shot_clock with the mean.  \n",
    "shot[['SHOT_CLOCK']] = shot[['SHOT_CLOCK']].fillna(shot[['SHOT_CLOCK']].mean())"
   ]
  },
  {
   "cell_type": "markdown",
   "metadata": {},
   "source": [
    "For the observations with discrepancies between the shot distance and the points type, it is unclear whether the discrepancy comes from a mistake in points type, or if it comes from a mistake in shot distance.  I decided to change the points type to match to the shot distance because, given a shot distance in a certain range, you can find out exactly how many points the shot is worth (unless the distance is between 22 and 23.75, but those observations were not counted as errors)."
   ]
  },
  {
   "cell_type": "code",
   "execution_count": 23,
   "metadata": {
    "scrolled": true
   },
   "outputs": [
    {
     "name": "stderr",
     "output_type": "stream",
     "text": [
      "/Users/ray/anaconda3/lib/python3.6/site-packages/pandas/core/indexing.py:543: SettingWithCopyWarning: \n",
      "A value is trying to be set on a copy of a slice from a DataFrame.\n",
      "Try using .loc[row_indexer,col_indexer] = value instead\n",
      "\n",
      "See the caveats in the documentation: http://pandas.pydata.org/pandas-docs/stable/indexing.html#indexing-view-versus-copy\n",
      "  self.obj[item] = s\n"
     ]
    }
   ],
   "source": [
    "#create filters for pts_type incorrectly labelled as 2 and 3\n",
    "discrep2 = (shot.PTS_TYPE == 2) & (shot.SHOT_DIST > 25)\n",
    "discrep3 = (shot.PTS_TYPE == 3) & (shot.SHOT_DIST < 19)\n",
    "\n",
    "#use filters to change the pts_type to the correct value\n",
    "shot.loc[discrep2, 'PTS_TYPE'] = 3\n",
    "shot.loc[discrep3, 'PTS_TYPE'] = 2"
   ]
  },
  {
   "cell_type": "code",
   "execution_count": 25,
   "metadata": {},
   "outputs": [
    {
     "name": "stdout",
     "output_type": "stream",
     "text": [
      "Number of incorrectly labeled 2 point shots is 0\n",
      "Number of incorrectly labeled 3 point shots is 0\n"
     ]
    }
   ],
   "source": [
    "# Check to make sure the labels were changed\n",
    "\n",
    "#create a data frame for just 2 point shots and another for just 3 point shots for filtered dataframe\n",
    "shot2 = shot[shot['PTS_TYPE'] == 2]\n",
    "shot3 = shot[shot['PTS_TYPE'] == 3]\n",
    "\n",
    "# data frame for incorrect distances\n",
    "incorrect2 = shot2[shot2['SHOT_DIST'] > 25]\n",
    "incorrect3 = shot3[shot3['SHOT_DIST'] < 19]\n",
    "print(\"Number of incorrectly labeled 2 point shots is\", len(incorrect2))\n",
    "print(\"Number of incorrectly labeled 3 point shots is\", len(incorrect3))"
   ]
  },
  {
   "cell_type": "markdown",
   "metadata": {},
   "source": [
    "Using the cleaned 'shot' data frame, I will use shot_result as my target column and everything else except pts as my input columns.  I am excluding pts as it details the amount of points resulting from the shot, so it would\n",
    "not be a good predictor of shot_result.  I am keeping the column, however, because I will use pts for future analysis. "
   ]
  },
  {
   "cell_type": "code",
   "execution_count": 26,
   "metadata": {},
   "outputs": [
    {
     "data": {
      "text/plain": [
       "0.45233574760330963"
      ]
     },
     "execution_count": 26,
     "metadata": {},
     "output_type": "execute_result"
    }
   ],
   "source": [
    "sum(shot.SHOT_RESULT) / len(shot.SHOT_RESULT)\n",
    "\n",
    "# The shot_result column is boolean, with 1 being if the shot was made, and 0 being if the shot was missed.  It\n",
    "# seems that about 45% of all total shots are made."
   ]
  },
  {
   "cell_type": "code",
   "execution_count": 27,
   "metadata": {},
   "outputs": [],
   "source": [
    "#create data frame where shot was missed and shot was made for some eda\n",
    "shot_made = shot.loc[shot['SHOT_RESULT'] == 1, :]\n",
    "shot_missed = shot.loc[shot['SHOT_RESULT'] == 0, :]"
   ]
  },
  {
   "cell_type": "code",
   "execution_count": 28,
   "metadata": {},
   "outputs": [
    {
     "data": {
      "text/plain": [
       "<matplotlib.axes._subplots.AxesSubplot at 0x1a1fed6a20>"
      ]
     },
     "execution_count": 28,
     "metadata": {},
     "output_type": "execute_result"
    },
    {
     "data": {
      "image/png": "[encoded data removed]",
      "text/plain": [
       "<Figure size 432x288 with 1 Axes>"
      ]
     },
     "metadata": {},
     "output_type": "display_data"
    }
   ],
   "source": [
    "#comparing makes and misses for 2 point shots vs 3 point shots\n",
    "\n",
    "sns.barplot(x = shot.PTS_TYPE, y = shot.SHOT_RESULT)\n",
    "\n",
    "#as expected, shots worth 2 points have a much higher percentage (around 49%) than shots worth 3 points (around 35%)"
   ]
  },
  {
   "cell_type": "code",
   "execution_count": 29,
   "metadata": {},
   "outputs": [
    {
     "data": {
      "image/png": "[encoded data removed]",
      "text/plain": [
       "<Figure size 432x288 with 1 Axes>"
      ]
     },
     "metadata": {},
     "output_type": "display_data"
    }
   ],
   "source": [
    "# EDA for a few variables that probably impact probability of shot being made\n",
    "\n",
    "# two line histograms of shot distances\n",
    "sns.set()\n",
    "sns.distplot(shot_made['SHOT_DIST'], hist = False, label = 'for shots made')\n",
    "sns.distplot(shot_missed['SHOT_DIST'], hist = False, label = 'for shots missed')\n",
    "plt.ylabel('Frequency')\n",
    "plt.xlabel('Shot distance (in feet)')\n",
    "plt.show()\n",
    "\n",
    "# the two distributions are definitely different, with, as expected, more shots being made the closer the shot\n",
    "# is taken to the rim.  Of note is the two peaks at the same distance for both line histograms.  The first\n",
    "# peak represents shots taken close to the rim, meaning probably layups or dunks.  The second peak represents\n",
    "# the distance for a three point shot.  The little bump in the second peak most likely represents corner three\n",
    "# point shots, which are closer to the rim than other three point shots."
   ]
  },
  {
   "cell_type": "code",
   "execution_count": 30,
   "metadata": {
    "scrolled": false
   },
   "outputs": [
    {
     "data": {
      "image/png": "[encoded data removed]",
      "text/plain": [
       "<Figure size 432x288 with 1 Axes>"
      ]
     },
     "metadata": {},
     "output_type": "display_data"
    }
   ],
   "source": [
    "#comparing shot distance and whether or not it was a 3\n",
    "\n",
    "sns.boxplot(shot['PTS_TYPE'], shot['SHOT_DIST'])\n",
    "plt.show()"
   ]
  },
  {
   "cell_type": "markdown",
   "metadata": {},
   "source": [
    "This boxplot shows that there are a few outliers for the 3 point shots, and the interquartile range for 2 point shots is much larger than it is for 3 point shots."
   ]
  },
  {
   "cell_type": "code",
   "execution_count": 33,
   "metadata": {
    "scrolled": true
   },
   "outputs": [
    {
     "data": {
      "text/html": [
       "<div>\n",
       "<style scoped>\n",
       "    .dataframe tbody tr th:only-of-type {\n",
       "        vertical-align: middle;\n",
       "    }\n",
       "\n",
       "    .dataframe tbody tr th {\n",
       "        vertical-align: top;\n",
       "    }\n",
       "\n",
       "    .dataframe thead th {\n",
       "        text-align: right;\n",
       "    }\n",
       "</style>\n",
       "<table border=\"1\" class=\"dataframe\">\n",
       "  <thead>\n",
       "    <tr style=\"text-align: right;\">\n",
       "      <th></th>\n",
       "      <th>DRIBBLES</th>\n",
       "      <th>total</th>\n",
       "      <th>made</th>\n",
       "      <th>made_percentage</th>\n",
       "      <th>missed</th>\n",
       "      <th>missed_percentage</th>\n",
       "    </tr>\n",
       "  </thead>\n",
       "  <tbody>\n",
       "    <tr>\n",
       "      <th>0</th>\n",
       "      <td>0</td>\n",
       "      <td>63127</td>\n",
       "      <td>29805.0</td>\n",
       "      <td>0.472143</td>\n",
       "      <td>33322</td>\n",
       "      <td>0.527857</td>\n",
       "    </tr>\n",
       "    <tr>\n",
       "      <th>1</th>\n",
       "      <td>1</td>\n",
       "      <td>19400</td>\n",
       "      <td>8813.0</td>\n",
       "      <td>0.454278</td>\n",
       "      <td>10587</td>\n",
       "      <td>0.545722</td>\n",
       "    </tr>\n",
       "    <tr>\n",
       "      <th>2</th>\n",
       "      <td>2</td>\n",
       "      <td>13859</td>\n",
       "      <td>5883.0</td>\n",
       "      <td>0.424490</td>\n",
       "      <td>7976</td>\n",
       "      <td>0.575510</td>\n",
       "    </tr>\n",
       "    <tr>\n",
       "      <th>3</th>\n",
       "      <td>3</td>\n",
       "      <td>7788</td>\n",
       "      <td>3317.0</td>\n",
       "      <td>0.425912</td>\n",
       "      <td>4471</td>\n",
       "      <td>0.574088</td>\n",
       "    </tr>\n",
       "    <tr>\n",
       "      <th>4</th>\n",
       "      <td>4</td>\n",
       "      <td>5199</td>\n",
       "      <td>2243.0</td>\n",
       "      <td>0.431429</td>\n",
       "      <td>2956</td>\n",
       "      <td>0.568571</td>\n",
       "    </tr>\n",
       "  </tbody>\n",
       "</table>\n",
       "</div>"
      ],
      "text/plain": [
       "   DRIBBLES  total     made  made_percentage  missed  missed_percentage\n",
       "0         0  63127  29805.0         0.472143   33322           0.527857\n",
       "1         1  19400   8813.0         0.454278   10587           0.545722\n",
       "2         2  13859   5883.0         0.424490    7976           0.575510\n",
       "3         3   7788   3317.0         0.425912    4471           0.574088\n",
       "4         4   5199   2243.0         0.431429    2956           0.568571"
      ]
     },
     "execution_count": 33,
     "metadata": {},
     "output_type": "execute_result"
    }
   ],
   "source": [
    "#stacked percentage bar plot for dribbles taken\n",
    "\n",
    "#create new data frame for just dribbles\n",
    "#column for total shots taken indexed by dribbles\n",
    "drib = shot.groupby('DRIBBLES').count()[['SHOT_RESULT']]\n",
    "drib = drib.rename(columns = {\"SHOT_RESULT\" : 'total'})\n",
    "\n",
    "#column for shots made\n",
    "drib['made'] = shot_made.groupby('DRIBBLES').count()[['SHOT_RESULT']]\n",
    "#add in column for percentage of shots made\n",
    "drib['made_percentage'] = drib['made'] / drib['total']\n",
    "\n",
    "#add in column for shots missed and percentage of shots missed\n",
    "drib['missed'] = shot_missed.groupby('DRIBBLES').count()[['SHOT_RESULT']]\n",
    "drib['missed_percentage'] = drib['missed'] / drib['total']\n",
    "\n",
    "#change nan to 0\n",
    "drib = drib.fillna(0)\n",
    "\n",
    "#reset index\n",
    "drib = drib.reset_index()\n",
    "drib.head()"
   ]
  },
  {
   "cell_type": "code",
   "execution_count": 34,
   "metadata": {},
   "outputs": [
    {
     "data": {
      "image/png": "[encoded data removed]",
      "text/plain": [
       "<Figure size 1080x864 with 1 Axes>"
      ]
     },
     "metadata": {},
     "output_type": "display_data"
    }
   ],
   "source": [
    "#plot the dribbles as a percentage stacked bar chart\n",
    "plt.figure(figsize = (15,12))\n",
    "plt.bar(drib.DRIBBLES, drib.made_percentage, width = .9, label = \"shots made\")\n",
    "plt.bar(drib.DRIBBLES, drib.missed_percentage, width = .9, bottom = drib.made_percentage, label = \"shots missed\")\n",
    "plt.xlabel('Dribbles taken')\n",
    "plt.ylabel('percentage')\n",
    "plt.yticks([.25, .5, .75, 1])\n",
    "plt.xticks(np.arange(21, step = 3))\n",
    "plt.legend(loc = 'upper left')\n",
    "plt.xlim([-1,21.5])\n",
    "plt.show()"
   ]
  },
  {
   "cell_type": "markdown",
   "metadata": {},
   "source": [
    "I chose to use a percentage stacked bar chart so I can try to how the percentages for shots made and missed vary for each dribble taken.  I chose to set the x limits to go up to 21 because, as shown in the data frame with just the dribbles, starting from 22 dribbles and on, there are 100 or less total shots taken for each dribble number.  Therefore, the I decided to leave them out as taking that many dribbles is very uncommon.  As can be shown from the plot, it seems that the more dribbles a player takes, the less likely it becomes for him to make a shot, although this effect is pretty small.  With 18 dribbles, the shot made percentage seems to be a bit high for the trend, and between 8 and 12 dribbles inclusive, there seems to be a little bump in the overall trend of decreasing shot made percentage.  While taking less dribbles does increase shot percentage, it does not seem to be a major factor."
   ]
  },
  {
   "cell_type": "code",
   "execution_count": 35,
   "metadata": {
    "scrolled": true
   },
   "outputs": [
    {
     "data": {
      "image/png": "[encoded data removed]",
      "text/plain": [
       "<Figure size 432x288 with 1 Axes>"
      ]
     },
     "metadata": {},
     "output_type": "display_data"
    }
   ],
   "source": [
    "# two line histograms of touch time before the shot\n",
    "\n",
    "sns.set()\n",
    "sns.distplot(shot_made['TOUCH_TIME'], hist = False, label = 'for shots made')\n",
    "sns.distplot(shot_missed['TOUCH_TIME'], hist = False, label = 'for shots missed')\n",
    "plt.ylabel('Frequency')\n",
    "plt.xlabel('Touch time')\n",
    "plt.show()"
   ]
  },
  {
   "cell_type": "code",
   "execution_count": 36,
   "metadata": {},
   "outputs": [
    {
     "data": {
      "image/png": "[encoded data removed]",
      "text/plain": [
       "<Figure size 432x288 with 1 Axes>"
      ]
     },
     "metadata": {},
     "output_type": "display_data"
    }
   ],
   "source": [
    "# zoomed in\n",
    "\n",
    "sns.set()\n",
    "sns.distplot(shot_made['TOUCH_TIME'], hist = False, label = 'for shots made')\n",
    "sns.distplot(shot_missed['TOUCH_TIME'], hist = False, label = 'for shots missed')\n",
    "plt.ylabel('Frequency')\n",
    "plt.xlabel('Touch time')\n",
    "plt.xlim(5, 28)\n",
    "plt.ylim(0, .06)\n",
    "plt.show()"
   ]
  },
  {
   "cell_type": "code",
   "execution_count": 37,
   "metadata": {},
   "outputs": [
    {
     "data": {
      "image/png": "[encoded data removed]",
      "text/plain": [
       "<Figure size 432x288 with 1 Axes>"
      ]
     },
     "metadata": {},
     "output_type": "display_data"
    }
   ],
   "source": [
    "# two line histograms of closest defender\n",
    "sns.set()\n",
    "sns.distplot(shot_made['CLOSE_DEF_DIST'], hist = False, label = 'for shots made')\n",
    "sns.distplot(shot_missed['CLOSE_DEF_DIST'], hist = False, label = 'for shots missed')\n",
    "plt.ylabel('Frequency')\n",
    "plt.xlabel('Distance of closest defender')\n",
    "plt.show()\n",
    "\n",
    "# Other than the fact that the shots missed has a lower peak, the distribution of close_def_dist for\n",
    "# shots made and shots missed seem fairly equal ."
   ]
  },
  {
   "cell_type": "code",
   "execution_count": 43,
   "metadata": {},
   "outputs": [],
   "source": [
    "#modeling\n",
    "\n",
    "# create and isolate list of shot_results as boolean\n",
    "shot_y = shot.SHOT_RESULT\n",
    "\n",
    "#create dataframe of non-object independent variables \n",
    "shot_X = shot[['SHOT_NUMBER', 'DRIBBLES', 'TOUCH_TIME', 'SHOT_CLOCK',\n",
    "               'SHOT_DIST', 'CLOSE_DEF_DIST', 'PTS_TYPE']]"
   ]
  },
  {
   "cell_type": "code",
   "execution_count": 44,
   "metadata": {},
   "outputs": [],
   "source": [
    "# split data into training and testing\n",
    "\n",
    "Xtrain, Xtest, ytrain, ytest = train_test_split(shot_X, shot_y, test_size = .25,\n",
    "                                               random_state = 99)"
   ]
  },
  {
   "cell_type": "code",
   "execution_count": 46,
   "metadata": {},
   "outputs": [
    {
     "data": {
      "image/png": "[encoded data removed]",
      "text/plain": [
       "<Figure size 432x288 with 1 Axes>"
      ]
     },
     "metadata": {},
     "output_type": "display_data"
    }
   ],
   "source": [
    "# pca plot to reduce dimensionality\n",
    "\n",
    "pca = PCA()\n",
    "pca.fit(Xtrain)\n",
    "\n",
    "features = range(pca.n_components_)\n",
    "plt.bar(features, pca.explained_variance_)\n",
    "plt.xlabel('PCA feature')\n",
    "plt.ylabel('variance')\n",
    "plt.xticks(features)\n",
    "plt.show()"
   ]
  },
  {
   "cell_type": "code",
   "execution_count": 40,
   "metadata": {},
   "outputs": [
    {
     "name": "stdout",
     "output_type": "stream",
     "text": [
      "0.6084755297206076\n",
      "0.6090362638163994\n"
     ]
    }
   ],
   "source": [
    "# attempt to find the percentage of shot_result for different kinds\n",
    "# kinds of shots first\n",
    "\n",
    "# use a logistic regression to classify whether or not shot was made\n",
    "\n",
    "lr = LogisticRegression()\n",
    "lr.fit(Xtrain, ytrain)\n",
    "print(accuracy_score(lr.predict(Xtest), ytest))\n",
    "print(accuracy_score(lr.predict(Xtrain), ytrain))\n",
    "\n",
    "# simple model seems to be very inaccurate with training and testing data.\n",
    "# curiously enough, the two accuracy scores are very similar, and it is\n",
    "# actually higher for the test data.\n",
    "# This is probably a due to the fact that basketball shots percentages are\n",
    "# highly volatile in and of themselves.  Repeated basketball shots, when\n",
    "# when taken in the exact same context, is still most likely comprised of\n",
    "# both makes and misses."
   ]
  },
  {
   "cell_type": "code",
   "execution_count": null,
   "metadata": {},
   "outputs": [],
   "source": []
  },
  {
   "cell_type": "code",
   "execution_count": null,
   "metadata": {},
   "outputs": [],
   "source": []
  },
  {
   "cell_type": "code",
   "execution_count": null,
   "metadata": {},
   "outputs": [],
   "source": []
  },
  {
   "cell_type": "code",
   "execution_count": null,
   "metadata": {},
   "outputs": [],
   "source": []
  },
  {
   "cell_type": "code",
   "execution_count": null,
   "metadata": {},
   "outputs": [],
   "source": [
    "# Fine-tuning the model\n",
    "#Cs = [0.001, 0.1, 1, 10, 100]\n",
    "\n",
    "#parameters = {'C' : Cs}\n",
    "#cgrid = GridSearchCV(lr, param_grid = parameters, cv = 5)\n",
    "#cgrid.fit(Xtrain, ytrain)\n",
    "#cgrid.best_estimator_, cgrid.best_params_, cgrid.best_score_, cgrid.grid_scores_"
   ]
  },
  {
   "cell_type": "code",
   "execution_count": null,
   "metadata": {},
   "outputs": [],
   "source": []
  },
  {
   "cell_type": "code",
   "execution_count": null,
   "metadata": {},
   "outputs": [],
   "source": []
  },
  {
   "cell_type": "code",
   "execution_count": null,
   "metadata": {},
   "outputs": [],
   "source": []
  },
  {
   "cell_type": "code",
   "execution_count": null,
   "metadata": {},
   "outputs": [],
   "source": []
  },
  {
   "cell_type": "code",
   "execution_count": null,
   "metadata": {},
   "outputs": [],
   "source": []
  }
 ],
 "metadata": {
  "kernelspec": {
   "display_name": "Python 3",
   "language": "python",
   "name": "python3"
  },
  "language_info": {
   "codemirror_mode": {
    "name": "ipython",
    "version": 3
   },
   "file_extension": ".py",
   "mimetype": "text/x-python",
   "name": "python",
   "nbconvert_exporter": "python",
   "pygments_lexer": "ipython3",
   "version": "3.6.5"
  }
 },
 "nbformat": 4,
 "nbformat_minor": 2
}
