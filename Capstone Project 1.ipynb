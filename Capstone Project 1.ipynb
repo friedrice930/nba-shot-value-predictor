{
 "cells": [
  {
   "cell_type": "code",
   "execution_count": 1,
   "metadata": {},
   "outputs": [],
   "source": [
    "import pandas as pd\n",
    "import numpy as np\n",
    "import matplotlib.pyplot as plt\n",
    "import scipy as sp\n",
    "import seaborn as sns\n",
    "import sklearn.model_selection\n",
    "from sklearn.model_selection import train_test_split, GridSearchCV\n",
    "from sklearn.linear_model import LogisticRegression\n",
    "from sklearn.metrics import accuracy_score\n"
   ]
  },
  {
   "cell_type": "code",
   "execution_count": 2,
   "metadata": {
    "scrolled": false
   },
   "outputs": [
    {
     "data": {
      "text/plain": [
       "(128069, 21)"
      ]
     },
     "execution_count": 2,
     "metadata": {},
     "output_type": "execute_result"
    }
   ],
   "source": [
    "#import dataset and look at column names\n",
    "shot_orig = pd.read_csv('shot_logs.csv')\n",
    "shot_orig.shape"
   ]
  },
  {
   "cell_type": "code",
   "execution_count": 3,
   "metadata": {},
   "outputs": [
    {
     "data": {
      "text/plain": [
       "Index(['GAME_ID', 'MATCHUP', 'LOCATION', 'W', 'FINAL_MARGIN', 'SHOT_NUMBER',\n",
       "       'PERIOD', 'GAME_CLOCK', 'SHOT_CLOCK', 'DRIBBLES', 'TOUCH_TIME',\n",
       "       'SHOT_DIST', 'PTS_TYPE', 'SHOT_RESULT', 'CLOSEST_DEFENDER',\n",
       "       'CLOSEST_DEFENDER_PLAYER_ID', 'CLOSE_DEF_DIST', 'FGM', 'PTS',\n",
       "       'player_name', 'player_id'],\n",
       "      dtype='object')"
      ]
     },
     "execution_count": 3,
     "metadata": {},
     "output_type": "execute_result"
    }
   ],
   "source": [
    "shot_orig.columns"
   ]
  },
  {
   "cell_type": "code",
   "execution_count": 4,
   "metadata": {},
   "outputs": [
    {
     "data": {
      "text/html": [
       "<div>\n",
       "<style scoped>\n",
       "    .dataframe tbody tr th:only-of-type {\n",
       "        vertical-align: middle;\n",
       "    }\n",
       "\n",
       "    .dataframe tbody tr th {\n",
       "        vertical-align: top;\n",
       "    }\n",
       "\n",
       "    .dataframe thead th {\n",
       "        text-align: right;\n",
       "    }\n",
       "</style>\n",
       "<table border=\"1\" class=\"dataframe\">\n",
       "  <thead>\n",
       "    <tr style=\"text-align: right;\">\n",
       "      <th></th>\n",
       "      <th>SHOT_NUMBER</th>\n",
       "      <th>PERIOD</th>\n",
       "      <th>GAME_CLOCK</th>\n",
       "      <th>SHOT_CLOCK</th>\n",
       "      <th>DRIBBLES</th>\n",
       "      <th>TOUCH_TIME</th>\n",
       "      <th>SHOT_DIST</th>\n",
       "      <th>PTS_TYPE</th>\n",
       "      <th>SHOT_RESULT</th>\n",
       "      <th>CLOSE_DEF_DIST</th>\n",
       "      <th>PTS</th>\n",
       "    </tr>\n",
       "  </thead>\n",
       "  <tbody>\n",
       "    <tr>\n",
       "      <th>0</th>\n",
       "      <td>1</td>\n",
       "      <td>1</td>\n",
       "      <td>1:09</td>\n",
       "      <td>10.8</td>\n",
       "      <td>2</td>\n",
       "      <td>1.9</td>\n",
       "      <td>7.7</td>\n",
       "      <td>2</td>\n",
       "      <td>made</td>\n",
       "      <td>1.3</td>\n",
       "      <td>2</td>\n",
       "    </tr>\n",
       "    <tr>\n",
       "      <th>1</th>\n",
       "      <td>2</td>\n",
       "      <td>1</td>\n",
       "      <td>0:14</td>\n",
       "      <td>3.4</td>\n",
       "      <td>0</td>\n",
       "      <td>0.8</td>\n",
       "      <td>28.2</td>\n",
       "      <td>3</td>\n",
       "      <td>missed</td>\n",
       "      <td>6.1</td>\n",
       "      <td>0</td>\n",
       "    </tr>\n",
       "    <tr>\n",
       "      <th>2</th>\n",
       "      <td>3</td>\n",
       "      <td>1</td>\n",
       "      <td>0:00</td>\n",
       "      <td>NaN</td>\n",
       "      <td>3</td>\n",
       "      <td>2.7</td>\n",
       "      <td>10.1</td>\n",
       "      <td>2</td>\n",
       "      <td>missed</td>\n",
       "      <td>0.9</td>\n",
       "      <td>0</td>\n",
       "    </tr>\n",
       "    <tr>\n",
       "      <th>3</th>\n",
       "      <td>4</td>\n",
       "      <td>2</td>\n",
       "      <td>11:47</td>\n",
       "      <td>10.3</td>\n",
       "      <td>2</td>\n",
       "      <td>1.9</td>\n",
       "      <td>17.2</td>\n",
       "      <td>2</td>\n",
       "      <td>missed</td>\n",
       "      <td>3.4</td>\n",
       "      <td>0</td>\n",
       "    </tr>\n",
       "    <tr>\n",
       "      <th>4</th>\n",
       "      <td>5</td>\n",
       "      <td>2</td>\n",
       "      <td>10:34</td>\n",
       "      <td>10.9</td>\n",
       "      <td>2</td>\n",
       "      <td>2.7</td>\n",
       "      <td>3.7</td>\n",
       "      <td>2</td>\n",
       "      <td>missed</td>\n",
       "      <td>1.1</td>\n",
       "      <td>0</td>\n",
       "    </tr>\n",
       "  </tbody>\n",
       "</table>\n",
       "</div>"
      ],
      "text/plain": [
       "   SHOT_NUMBER  PERIOD GAME_CLOCK  SHOT_CLOCK  DRIBBLES  TOUCH_TIME  \\\n",
       "0            1       1       1:09        10.8         2         1.9   \n",
       "1            2       1       0:14         3.4         0         0.8   \n",
       "2            3       1       0:00         NaN         3         2.7   \n",
       "3            4       2      11:47        10.3         2         1.9   \n",
       "4            5       2      10:34        10.9         2         2.7   \n",
       "\n",
       "   SHOT_DIST  PTS_TYPE SHOT_RESULT  CLOSE_DEF_DIST  PTS  \n",
       "0        7.7         2        made             1.3    2  \n",
       "1       28.2         3      missed             6.1    0  \n",
       "2       10.1         2      missed             0.9    0  \n",
       "3       17.2         2      missed             3.4    0  \n",
       "4        3.7         2      missed             1.1    0  "
      ]
     },
     "execution_count": 4,
     "metadata": {},
     "output_type": "execute_result"
    }
   ],
   "source": [
    "# Get rid of game_id as it will not contribute my final model\n",
    "\n",
    "# Get rid of win and final_margin as they are only known after a game is over,\n",
    "# and I am trying to model shots taken during a game, so they would not contribute to my final.  \n",
    "\n",
    "# Get rid of player_name, player_id, closest_defender, closest_defender_player_id,matchup, location because\n",
    "# these are NBA specific, and I would like to generalize to all basketball games.\n",
    "\n",
    "shot = shot_orig.loc[: , ['SHOT_NUMBER', 'PERIOD', 'GAME_CLOCK', 'SHOT_CLOCK', 'DRIBBLES', 'TOUCH_TIME',\n",
    "                     'SHOT_DIST', 'PTS_TYPE', 'SHOT_RESULT', 'CLOSE_DEF_DIST', 'PTS']]\n",
    "shot.head()"
   ]
  },
  {
   "cell_type": "code",
   "execution_count": 5,
   "metadata": {},
   "outputs": [],
   "source": [
    "# find if game_clock refers to the time left in the whole game, or just the period\n",
    "#shot.GAME_CLOCK\n",
    "\n",
    "# it seems that none of the time goes above 12, so game_clock refers to just the period"
   ]
  },
  {
   "cell_type": "code",
   "execution_count": 6,
   "metadata": {
    "scrolled": true
   },
   "outputs": [
    {
     "data": {
      "text/html": [
       "<div>\n",
       "<style scoped>\n",
       "    .dataframe tbody tr th:only-of-type {\n",
       "        vertical-align: middle;\n",
       "    }\n",
       "\n",
       "    .dataframe tbody tr th {\n",
       "        vertical-align: top;\n",
       "    }\n",
       "\n",
       "    .dataframe thead th {\n",
       "        text-align: right;\n",
       "    }\n",
       "</style>\n",
       "<table border=\"1\" class=\"dataframe\">\n",
       "  <thead>\n",
       "    <tr style=\"text-align: right;\">\n",
       "      <th></th>\n",
       "      <th>0</th>\n",
       "    </tr>\n",
       "  </thead>\n",
       "  <tbody>\n",
       "    <tr>\n",
       "      <th>SHOT_NUMBER</th>\n",
       "      <td>int64</td>\n",
       "    </tr>\n",
       "    <tr>\n",
       "      <th>PERIOD</th>\n",
       "      <td>int64</td>\n",
       "    </tr>\n",
       "    <tr>\n",
       "      <th>GAME_CLOCK</th>\n",
       "      <td>object</td>\n",
       "    </tr>\n",
       "    <tr>\n",
       "      <th>SHOT_CLOCK</th>\n",
       "      <td>float64</td>\n",
       "    </tr>\n",
       "    <tr>\n",
       "      <th>DRIBBLES</th>\n",
       "      <td>int64</td>\n",
       "    </tr>\n",
       "    <tr>\n",
       "      <th>TOUCH_TIME</th>\n",
       "      <td>float64</td>\n",
       "    </tr>\n",
       "    <tr>\n",
       "      <th>SHOT_DIST</th>\n",
       "      <td>float64</td>\n",
       "    </tr>\n",
       "    <tr>\n",
       "      <th>PTS_TYPE</th>\n",
       "      <td>int64</td>\n",
       "    </tr>\n",
       "    <tr>\n",
       "      <th>SHOT_RESULT</th>\n",
       "      <td>object</td>\n",
       "    </tr>\n",
       "    <tr>\n",
       "      <th>CLOSE_DEF_DIST</th>\n",
       "      <td>float64</td>\n",
       "    </tr>\n",
       "    <tr>\n",
       "      <th>PTS</th>\n",
       "      <td>int64</td>\n",
       "    </tr>\n",
       "  </tbody>\n",
       "</table>\n",
       "</div>"
      ],
      "text/plain": [
       "                      0\n",
       "SHOT_NUMBER       int64\n",
       "PERIOD            int64\n",
       "GAME_CLOCK       object\n",
       "SHOT_CLOCK      float64\n",
       "DRIBBLES          int64\n",
       "TOUCH_TIME      float64\n",
       "SHOT_DIST       float64\n",
       "PTS_TYPE          int64\n",
       "SHOT_RESULT      object\n",
       "CLOSE_DEF_DIST  float64\n",
       "PTS               int64"
      ]
     },
     "execution_count": 6,
     "metadata": {},
     "output_type": "execute_result"
    }
   ],
   "source": [
    "pd.DataFrame(shot.dtypes)\n",
    "\n",
    "# Everything is numeric except for GAME_CLOCK and SHOT_RESULT"
   ]
  },
  {
   "cell_type": "code",
   "execution_count": 7,
   "metadata": {
    "scrolled": false
   },
   "outputs": [
    {
     "data": {
      "text/plain": [
       "numpy.float64"
      ]
     },
     "execution_count": 7,
     "metadata": {},
     "output_type": "execute_result"
    }
   ],
   "source": [
    "# convert game_clock to float\n",
    "#first replace the colon with a period\n",
    "shot.GAME_CLOCK = shot.GAME_CLOCK.str.replace(':', '.', regex=True)\n",
    "\n",
    "#convert game_clock into float\n",
    "shot.GAME_CLOCK = shot.GAME_CLOCK.astype('float')\n",
    "type(shot.GAME_CLOCK[1])\n"
   ]
  },
  {
   "cell_type": "code",
   "execution_count": 8,
   "metadata": {},
   "outputs": [],
   "source": [
    "#convert shot_result to bool. 1 if made, 0 if missed\n",
    "shot.SHOT_RESULT = shot.SHOT_RESULT == 'made'"
   ]
  },
  {
   "cell_type": "code",
   "execution_count": 9,
   "metadata": {
    "scrolled": true
   },
   "outputs": [
    {
     "data": {
      "text/html": [
       "<div>\n",
       "<style scoped>\n",
       "    .dataframe tbody tr th:only-of-type {\n",
       "        vertical-align: middle;\n",
       "    }\n",
       "\n",
       "    .dataframe tbody tr th {\n",
       "        vertical-align: top;\n",
       "    }\n",
       "\n",
       "    .dataframe thead th {\n",
       "        text-align: right;\n",
       "    }\n",
       "</style>\n",
       "<table border=\"1\" class=\"dataframe\">\n",
       "  <thead>\n",
       "    <tr style=\"text-align: right;\">\n",
       "      <th></th>\n",
       "      <th>SHOT_NUMBER</th>\n",
       "      <th>PERIOD</th>\n",
       "      <th>GAME_CLOCK</th>\n",
       "      <th>SHOT_CLOCK</th>\n",
       "      <th>DRIBBLES</th>\n",
       "      <th>TOUCH_TIME</th>\n",
       "      <th>SHOT_DIST</th>\n",
       "      <th>PTS_TYPE</th>\n",
       "      <th>SHOT_RESULT</th>\n",
       "      <th>CLOSE_DEF_DIST</th>\n",
       "      <th>PTS</th>\n",
       "    </tr>\n",
       "  </thead>\n",
       "  <tbody>\n",
       "    <tr>\n",
       "      <th>count</th>\n",
       "      <td>128069.000000</td>\n",
       "      <td>128069.000000</td>\n",
       "      <td>128069.000000</td>\n",
       "      <td>122502.000000</td>\n",
       "      <td>128069.000000</td>\n",
       "      <td>128069.000000</td>\n",
       "      <td>128069.000000</td>\n",
       "      <td>128069.000000</td>\n",
       "      <td>128069</td>\n",
       "      <td>128069.000000</td>\n",
       "      <td>128069.000000</td>\n",
       "    </tr>\n",
       "    <tr>\n",
       "      <th>unique</th>\n",
       "      <td>NaN</td>\n",
       "      <td>NaN</td>\n",
       "      <td>NaN</td>\n",
       "      <td>NaN</td>\n",
       "      <td>NaN</td>\n",
       "      <td>NaN</td>\n",
       "      <td>NaN</td>\n",
       "      <td>NaN</td>\n",
       "      <td>2</td>\n",
       "      <td>NaN</td>\n",
       "      <td>NaN</td>\n",
       "    </tr>\n",
       "    <tr>\n",
       "      <th>top</th>\n",
       "      <td>NaN</td>\n",
       "      <td>NaN</td>\n",
       "      <td>NaN</td>\n",
       "      <td>NaN</td>\n",
       "      <td>NaN</td>\n",
       "      <td>NaN</td>\n",
       "      <td>NaN</td>\n",
       "      <td>NaN</td>\n",
       "      <td>False</td>\n",
       "      <td>NaN</td>\n",
       "      <td>NaN</td>\n",
       "    </tr>\n",
       "    <tr>\n",
       "      <th>freq</th>\n",
       "      <td>NaN</td>\n",
       "      <td>NaN</td>\n",
       "      <td>NaN</td>\n",
       "      <td>NaN</td>\n",
       "      <td>NaN</td>\n",
       "      <td>NaN</td>\n",
       "      <td>NaN</td>\n",
       "      <td>NaN</td>\n",
       "      <td>70164</td>\n",
       "      <td>NaN</td>\n",
       "      <td>NaN</td>\n",
       "    </tr>\n",
       "    <tr>\n",
       "      <th>mean</th>\n",
       "      <td>6.506899</td>\n",
       "      <td>2.469427</td>\n",
       "      <td>5.663617</td>\n",
       "      <td>12.453344</td>\n",
       "      <td>2.023355</td>\n",
       "      <td>2.765901</td>\n",
       "      <td>13.571504</td>\n",
       "      <td>2.264670</td>\n",
       "      <td>NaN</td>\n",
       "      <td>4.123015</td>\n",
       "      <td>0.997314</td>\n",
       "    </tr>\n",
       "    <tr>\n",
       "      <th>std</th>\n",
       "      <td>4.713260</td>\n",
       "      <td>1.139919</td>\n",
       "      <td>3.451461</td>\n",
       "      <td>5.763265</td>\n",
       "      <td>3.477760</td>\n",
       "      <td>3.043682</td>\n",
       "      <td>8.888964</td>\n",
       "      <td>0.441159</td>\n",
       "      <td>NaN</td>\n",
       "      <td>2.756446</td>\n",
       "      <td>1.130978</td>\n",
       "    </tr>\n",
       "    <tr>\n",
       "      <th>min</th>\n",
       "      <td>1.000000</td>\n",
       "      <td>1.000000</td>\n",
       "      <td>0.000000</td>\n",
       "      <td>0.000000</td>\n",
       "      <td>0.000000</td>\n",
       "      <td>-163.600000</td>\n",
       "      <td>0.000000</td>\n",
       "      <td>2.000000</td>\n",
       "      <td>NaN</td>\n",
       "      <td>0.000000</td>\n",
       "      <td>0.000000</td>\n",
       "    </tr>\n",
       "    <tr>\n",
       "      <th>25%</th>\n",
       "      <td>3.000000</td>\n",
       "      <td>1.000000</td>\n",
       "      <td>2.520000</td>\n",
       "      <td>8.200000</td>\n",
       "      <td>0.000000</td>\n",
       "      <td>0.900000</td>\n",
       "      <td>4.700000</td>\n",
       "      <td>2.000000</td>\n",
       "      <td>NaN</td>\n",
       "      <td>2.300000</td>\n",
       "      <td>0.000000</td>\n",
       "    </tr>\n",
       "    <tr>\n",
       "      <th>50%</th>\n",
       "      <td>5.000000</td>\n",
       "      <td>2.000000</td>\n",
       "      <td>5.520000</td>\n",
       "      <td>12.300000</td>\n",
       "      <td>1.000000</td>\n",
       "      <td>1.600000</td>\n",
       "      <td>13.700000</td>\n",
       "      <td>2.000000</td>\n",
       "      <td>NaN</td>\n",
       "      <td>3.700000</td>\n",
       "      <td>0.000000</td>\n",
       "    </tr>\n",
       "    <tr>\n",
       "      <th>75%</th>\n",
       "      <td>9.000000</td>\n",
       "      <td>3.000000</td>\n",
       "      <td>8.510000</td>\n",
       "      <td>16.675000</td>\n",
       "      <td>2.000000</td>\n",
       "      <td>3.700000</td>\n",
       "      <td>22.500000</td>\n",
       "      <td>3.000000</td>\n",
       "      <td>NaN</td>\n",
       "      <td>5.300000</td>\n",
       "      <td>2.000000</td>\n",
       "    </tr>\n",
       "    <tr>\n",
       "      <th>max</th>\n",
       "      <td>38.000000</td>\n",
       "      <td>7.000000</td>\n",
       "      <td>12.000000</td>\n",
       "      <td>24.000000</td>\n",
       "      <td>32.000000</td>\n",
       "      <td>24.900000</td>\n",
       "      <td>47.200000</td>\n",
       "      <td>3.000000</td>\n",
       "      <td>NaN</td>\n",
       "      <td>53.200000</td>\n",
       "      <td>3.000000</td>\n",
       "    </tr>\n",
       "  </tbody>\n",
       "</table>\n",
       "</div>"
      ],
      "text/plain": [
       "          SHOT_NUMBER         PERIOD     GAME_CLOCK     SHOT_CLOCK  \\\n",
       "count   128069.000000  128069.000000  128069.000000  122502.000000   \n",
       "unique            NaN            NaN            NaN            NaN   \n",
       "top               NaN            NaN            NaN            NaN   \n",
       "freq              NaN            NaN            NaN            NaN   \n",
       "mean         6.506899       2.469427       5.663617      12.453344   \n",
       "std          4.713260       1.139919       3.451461       5.763265   \n",
       "min          1.000000       1.000000       0.000000       0.000000   \n",
       "25%          3.000000       1.000000       2.520000       8.200000   \n",
       "50%          5.000000       2.000000       5.520000      12.300000   \n",
       "75%          9.000000       3.000000       8.510000      16.675000   \n",
       "max         38.000000       7.000000      12.000000      24.000000   \n",
       "\n",
       "             DRIBBLES     TOUCH_TIME      SHOT_DIST       PTS_TYPE  \\\n",
       "count   128069.000000  128069.000000  128069.000000  128069.000000   \n",
       "unique            NaN            NaN            NaN            NaN   \n",
       "top               NaN            NaN            NaN            NaN   \n",
       "freq              NaN            NaN            NaN            NaN   \n",
       "mean         2.023355       2.765901      13.571504       2.264670   \n",
       "std          3.477760       3.043682       8.888964       0.441159   \n",
       "min          0.000000    -163.600000       0.000000       2.000000   \n",
       "25%          0.000000       0.900000       4.700000       2.000000   \n",
       "50%          1.000000       1.600000      13.700000       2.000000   \n",
       "75%          2.000000       3.700000      22.500000       3.000000   \n",
       "max         32.000000      24.900000      47.200000       3.000000   \n",
       "\n",
       "       SHOT_RESULT  CLOSE_DEF_DIST            PTS  \n",
       "count       128069   128069.000000  128069.000000  \n",
       "unique           2             NaN            NaN  \n",
       "top          False             NaN            NaN  \n",
       "freq         70164             NaN            NaN  \n",
       "mean           NaN        4.123015       0.997314  \n",
       "std            NaN        2.756446       1.130978  \n",
       "min            NaN        0.000000       0.000000  \n",
       "25%            NaN        2.300000       0.000000  \n",
       "50%            NaN        3.700000       0.000000  \n",
       "75%            NaN        5.300000       2.000000  \n",
       "max            NaN       53.200000       3.000000  "
      ]
     },
     "execution_count": 9,
     "metadata": {},
     "output_type": "execute_result"
    }
   ],
   "source": [
    "shot.describe(include = 'all')"
   ]
  },
  {
   "cell_type": "code",
   "execution_count": 10,
   "metadata": {
    "scrolled": false
   },
   "outputs": [
    {
     "data": {
      "text/html": [
       "<div>\n",
       "<style scoped>\n",
       "    .dataframe tbody tr th:only-of-type {\n",
       "        vertical-align: middle;\n",
       "    }\n",
       "\n",
       "    .dataframe tbody tr th {\n",
       "        vertical-align: top;\n",
       "    }\n",
       "\n",
       "    .dataframe thead th {\n",
       "        text-align: right;\n",
       "    }\n",
       "</style>\n",
       "<table border=\"1\" class=\"dataframe\">\n",
       "  <thead>\n",
       "    <tr style=\"text-align: right;\">\n",
       "      <th></th>\n",
       "      <th>count</th>\n",
       "      <th>percentage of missing values</th>\n",
       "    </tr>\n",
       "  </thead>\n",
       "  <tbody>\n",
       "    <tr>\n",
       "      <th>SHOT_NUMBER</th>\n",
       "      <td>128069</td>\n",
       "      <td>0</td>\n",
       "    </tr>\n",
       "    <tr>\n",
       "      <th>PERIOD</th>\n",
       "      <td>128069</td>\n",
       "      <td>0</td>\n",
       "    </tr>\n",
       "    <tr>\n",
       "      <th>GAME_CLOCK</th>\n",
       "      <td>128069</td>\n",
       "      <td>0</td>\n",
       "    </tr>\n",
       "    <tr>\n",
       "      <th>SHOT_CLOCK</th>\n",
       "      <td>122502</td>\n",
       "      <td>0.0434688</td>\n",
       "    </tr>\n",
       "    <tr>\n",
       "      <th>DRIBBLES</th>\n",
       "      <td>128069</td>\n",
       "      <td>0</td>\n",
       "    </tr>\n",
       "    <tr>\n",
       "      <th>TOUCH_TIME</th>\n",
       "      <td>128069</td>\n",
       "      <td>0</td>\n",
       "    </tr>\n",
       "    <tr>\n",
       "      <th>SHOT_DIST</th>\n",
       "      <td>128069</td>\n",
       "      <td>0</td>\n",
       "    </tr>\n",
       "    <tr>\n",
       "      <th>PTS_TYPE</th>\n",
       "      <td>128069</td>\n",
       "      <td>0</td>\n",
       "    </tr>\n",
       "    <tr>\n",
       "      <th>SHOT_RESULT</th>\n",
       "      <td>128069</td>\n",
       "      <td>0</td>\n",
       "    </tr>\n",
       "    <tr>\n",
       "      <th>CLOSE_DEF_DIST</th>\n",
       "      <td>128069</td>\n",
       "      <td>0</td>\n",
       "    </tr>\n",
       "    <tr>\n",
       "      <th>PTS</th>\n",
       "      <td>128069</td>\n",
       "      <td>0</td>\n",
       "    </tr>\n",
       "  </tbody>\n",
       "</table>\n",
       "</div>"
      ],
      "text/plain": [
       "                 count percentage of missing values\n",
       "SHOT_NUMBER     128069                            0\n",
       "PERIOD          128069                            0\n",
       "GAME_CLOCK      128069                            0\n",
       "SHOT_CLOCK      122502                    0.0434688\n",
       "DRIBBLES        128069                            0\n",
       "TOUCH_TIME      128069                            0\n",
       "SHOT_DIST       128069                            0\n",
       "PTS_TYPE        128069                            0\n",
       "SHOT_RESULT     128069                            0\n",
       "CLOSE_DEF_DIST  128069                            0\n",
       "PTS             128069                            0"
      ]
     },
     "execution_count": 10,
     "metadata": {},
     "output_type": "execute_result"
    }
   ],
   "source": [
    "misvals = pd.DataFrame(pd.DataFrame(shot.describe(include = 'all')).iloc[0, :])\n",
    "misvals['percentage of missing values'] = (128069 - misvals['count']) / 128069\n",
    "misvals\n",
    "\n",
    "# it seems that all columns except for shot_clock have the full 128069 values\n",
    "# shot_clock is only missing less than 5% of its values, so dropping the column would not be considered"
   ]
  },
  {
   "cell_type": "code",
   "execution_count": 11,
   "metadata": {},
   "outputs": [],
   "source": [
    "#fill the NaN in shot_clock with the mean\n",
    "\n",
    "shot[['SHOT_CLOCK']] = shot[['SHOT_CLOCK']].fillna(shot[['SHOT_CLOCK']].mean())"
   ]
  },
  {
   "cell_type": "code",
   "execution_count": 12,
   "metadata": {
    "scrolled": true
   },
   "outputs": [],
   "source": [
    "# maybe use fancy impute instead?"
   ]
  },
  {
   "cell_type": "code",
   "execution_count": 13,
   "metadata": {},
   "outputs": [
    {
     "data": {
      "text/plain": [
       "0.4521390812764994"
      ]
     },
     "execution_count": 13,
     "metadata": {},
     "output_type": "execute_result"
    }
   ],
   "source": [
    "# Using the cleaned 'shot' data frame, I will use shot_result as my target column and everything else except pts\n",
    "# as my input columns.  I am excluding pts as it details the amount of points resulting from the shot, so it would\n",
    "# not be a good predictor of shot_result.  I am keeping the column, however, because I may use pts as my target column\n",
    "# in a different model. \n",
    "\n",
    "sum(shot.SHOT_RESULT) / len(shot.SHOT_RESULT)\n",
    "\n",
    "# The shot_result column is boolean, with 1 being if the shot was made, and 0 being if the shot was missed.  It\n",
    "# seems that about 45% of all total shots are made."
   ]
  },
  {
   "cell_type": "code",
   "execution_count": 14,
   "metadata": {},
   "outputs": [],
   "source": [
    "#create data frame where shot was missed and shot was made for some eda\n",
    "shot_made = shot.loc[shot['SHOT_RESULT'] == 1, :]\n",
    "shot_missed = shot.loc[shot['SHOT_RESULT'] == 0, :]"
   ]
  },
  {
   "cell_type": "code",
   "execution_count": 15,
   "metadata": {},
   "outputs": [
    {
     "data": {
      "text/plain": [
       "<matplotlib.axes._subplots.AxesSubplot at 0x1a1b208ef0>"
      ]
     },
     "execution_count": 15,
     "metadata": {},
     "output_type": "execute_result"
    },
    {
     "data": {
      "image/png": "[encoded data removed]",
      "text/plain": [
       "<Figure size 432x288 with 1 Axes>"
      ]
     },
     "metadata": {},
     "output_type": "display_data"
    }
   ],
   "source": [
    "#comparing makes and misses for 2 point shots vs 3 point shots\n",
    "\n",
    "sns.barplot(x = shot.PTS_TYPE, y = shot.SHOT_RESULT)\n",
    "\n",
    "#as expected, shots worth 2 points have a much higher percentage (around 49%) than shots worth 3 points (around 35%)"
   ]
  },
  {
   "cell_type": "code",
   "execution_count": 16,
   "metadata": {},
   "outputs": [
    {
     "data": {
      "image/png": "[encoded data removed]",
      "text/plain": [
       "<Figure size 432x288 with 1 Axes>"
      ]
     },
     "metadata": {},
     "output_type": "display_data"
    }
   ],
   "source": [
    "# EDA for a few variables that probably impact probability of shot being made\n",
    "\n",
    "# two line histograms of shot distances\n",
    "sns.set()\n",
    "sns.distplot(shot_made['SHOT_DIST'], hist = False, label = 'for shots made')\n",
    "sns.distplot(shot_missed['SHOT_DIST'], hist = False, label = 'for shots missed')\n",
    "plt.ylabel('Frequency')\n",
    "plt.xlabel('Shot distance (in feet)')\n",
    "plt.show()\n",
    "\n",
    "# the two distributions are definitely different, with, as expected, more shots being made the closer the shot\n",
    "# is taken to the rim.  Of note is the two peaks at the same distance for both line histograms.  The first\n",
    "# peak represents shots taken close to the rim, meaning probably layups or dunks.  The second peak represents\n",
    "# the distance for a three point shot.  The little bump in the second peak most likely represents corner three\n",
    "# point shots, which are closer to the rim than other three point shots."
   ]
  },
  {
   "cell_type": "code",
   "execution_count": 17,
   "metadata": {},
   "outputs": [
    {
     "name": "stderr",
     "output_type": "stream",
     "text": [
      "/Users/ray/anaconda3/lib/python3.6/site-packages/matplotlib/axes/_axes.py:6462: UserWarning: The 'normed' kwarg is deprecated, and has been replaced by the 'density' kwarg.\n",
      "  warnings.warn(\"The 'normed' kwarg is deprecated, and has been \"\n",
      "/Users/ray/anaconda3/lib/python3.6/site-packages/matplotlib/axes/_axes.py:6462: UserWarning: The 'normed' kwarg is deprecated, and has been replaced by the 'density' kwarg.\n",
      "  warnings.warn(\"The 'normed' kwarg is deprecated, and has been \"\n"
     ]
    },
    {
     "data": {
      "image/png": "[encoded data removed]",
      "text/plain": [
       "<Figure size 432x288 with 1 Axes>"
      ]
     },
     "metadata": {},
     "output_type": "display_data"
    }
   ],
   "source": [
    "# two line histograms of dribbles taken\n",
    "sns.set()\n",
    "sns.distplot(shot_made['DRIBBLES'], kde = False, color = 'red',\n",
    "             bins = np.arange(shot_made['DRIBBLES'].min(), shot_made['DRIBBLES'].max() + 1))\n",
    "sns.distplot(shot_missed['DRIBBLES'], kde = False, color = 'blue',\n",
    "             bins = np.arange(shot_missed['DRIBBLES'].min(), shot_missed['DRIBBLES'].max() + 1))\n",
    "plt.xlabel('Dribbles before shot')\n",
    "plt.ylabel('Frequency')\n",
    "plt.show()\n",
    "\n",
    "# at a first glance, it seems that the number of dribbles taken before the shot does not affect affect\n",
    "# whether or not the shot was made, as the frequencies seem to decrease equally "
   ]
  },
  {
   "cell_type": "code",
   "execution_count": 18,
   "metadata": {},
   "outputs": [
    {
     "name": "stderr",
     "output_type": "stream",
     "text": [
      "/Users/ray/anaconda3/lib/python3.6/site-packages/matplotlib/axes/_axes.py:6462: UserWarning: The 'normed' kwarg is deprecated, and has been replaced by the 'density' kwarg.\n",
      "  warnings.warn(\"The 'normed' kwarg is deprecated, and has been \"\n",
      "/Users/ray/anaconda3/lib/python3.6/site-packages/matplotlib/axes/_axes.py:6462: UserWarning: The 'normed' kwarg is deprecated, and has been replaced by the 'density' kwarg.\n",
      "  warnings.warn(\"The 'normed' kwarg is deprecated, and has been \"\n"
     ]
    },
    {
     "data": {
      "image/png": "[encoded data removed]",
      "text/plain": [
       "<Figure size 432x288 with 1 Axes>"
      ]
     },
     "metadata": {},
     "output_type": "display_data"
    }
   ],
   "source": [
    "# zoomed in version of previous plot for 5 dribbles or more\n",
    "\n",
    "sns.set()\n",
    "sns.distplot(shot_made['DRIBBLES'], kde = False, color = 'red',\n",
    "             bins = np.arange(shot_made['DRIBBLES'].min(), shot_made['DRIBBLES'].max() + 1))\n",
    "sns.distplot(shot_missed['DRIBBLES'], kde = False, color = 'blue',\n",
    "             bins = np.arange(shot_missed['DRIBBLES'].min(), shot_missed['DRIBBLES'].max() + 1))\n",
    "plt.xlabel('Dribbles before shot')\n",
    "plt.ylabel('Frequency')\n",
    "plt.xlim(5, 30)\n",
    "plt.ylim(0, 2200)\n",
    "plt.show()\n",
    "\n",
    "# with a closer look, it seems that the frequency of dribbles before shot still decrease at the same rate for both\n",
    "# shots made and missed"
   ]
  },
  {
   "cell_type": "code",
   "execution_count": 19,
   "metadata": {},
   "outputs": [
    {
     "data": {
      "image/png": "[encoded data removed]",
      "text/plain": [
       "<Figure size 432x288 with 1 Axes>"
      ]
     },
     "metadata": {},
     "output_type": "display_data"
    }
   ],
   "source": [
    "# two line histograms of closest defender\n",
    "sns.set()\n",
    "sns.distplot(shot_made['CLOSE_DEF_DIST'], hist = False, label = 'for shots made')\n",
    "sns.distplot(shot_missed['CLOSE_DEF_DIST'], hist = False, label = 'for shots missed')\n",
    "plt.ylabel('Frequency')\n",
    "plt.xlabel('Distance of closest defender')\n",
    "plt.show()"
   ]
  },
  {
   "cell_type": "code",
   "execution_count": null,
   "metadata": {},
   "outputs": [],
   "source": []
  },
  {
   "cell_type": "code",
   "execution_count": null,
   "metadata": {},
   "outputs": [],
   "source": []
  },
  {
   "cell_type": "code",
   "execution_count": null,
   "metadata": {},
   "outputs": [],
   "source": []
  },
  {
   "cell_type": "code",
   "execution_count": null,
   "metadata": {},
   "outputs": [],
   "source": []
  },
  {
   "cell_type": "code",
   "execution_count": null,
   "metadata": {},
   "outputs": [],
   "source": []
  },
  {
   "cell_type": "code",
   "execution_count": null,
   "metadata": {},
   "outputs": [],
   "source": []
  },
  {
   "cell_type": "code",
   "execution_count": null,
   "metadata": {},
   "outputs": [],
   "source": []
  },
  {
   "cell_type": "code",
   "execution_count": null,
   "metadata": {},
   "outputs": [],
   "source": []
  },
  {
   "cell_type": "code",
   "execution_count": null,
   "metadata": {},
   "outputs": [],
   "source": []
  },
  {
   "cell_type": "code",
   "execution_count": null,
   "metadata": {},
   "outputs": [],
   "source": []
  },
  {
   "cell_type": "code",
   "execution_count": 102,
   "metadata": {},
   "outputs": [],
   "source": [
    "#modeling\n",
    "\n",
    "# create and isolate list of shot_results as boolean\n",
    "shot_y = shot.SHOT_RESULT == 'missed'\n",
    "\n",
    "#create dataframe of non-object independent variables \n",
    "shot_X = shot[['SHOT_NUMBER', 'DRIBBLES', 'TOUCH_TIME', 'SHOT_CLOCK',\n",
    "              'SHOT_DIST', 'CLOSE_DEF_DIST', 'PTS_TYPE']]"
   ]
  },
  {
   "cell_type": "code",
   "execution_count": 103,
   "metadata": {},
   "outputs": [],
   "source": [
    "# split data into training and testing\n",
    "\n",
    "Xtrain, Xtest, ytrain, ytest = train_test_split(shot_X, shot_y, test_size = .25,\n",
    "                                               random_state = 99)"
   ]
  },
  {
   "cell_type": "code",
   "execution_count": 104,
   "metadata": {},
   "outputs": [
    {
     "name": "stdout",
     "output_type": "stream",
     "text": [
      "0.6106252732837779\n",
      "0.6088640409782303\n"
     ]
    }
   ],
   "source": [
    "# attempt to find the percentage of shot_result for different kinds\n",
    "# kinds of shots first\n",
    "\n",
    "# use a logistic regression to classify whether or not shot was made\n",
    "\n",
    "lr = LogisticRegression()\n",
    "lr.fit(Xtrain, ytrain)\n",
    "print(accuracy_score(lr.predict(Xtest), ytest))\n",
    "print(accuracy_score(lr.predict(Xtrain), ytrain))\n",
    "\n",
    "# simple model seems to be very inaccurate with training and testing data.\n",
    "# curiously enough, the two accuracy scores are very similar, and it is\n",
    "# actually higher for the test data.\n",
    "# This is probably a due to the fact that basketball shots percentages are\n",
    "# highly volatile in and of themselves.  Repeated basketball shots, when\n",
    "# when taken in the exact same context, is still most likely comprised of\n",
    "# both makes and misses."
   ]
  },
  {
   "cell_type": "code",
   "execution_count": 106,
   "metadata": {},
   "outputs": [
    {
     "name": "stderr",
     "output_type": "stream",
     "text": [
      "/Users/ray/anaconda3/lib/python3.6/site-packages/sklearn/model_selection/_search.py:761: DeprecationWarning: The grid_scores_ attribute was deprecated in version 0.18 in favor of the more elaborate cv_results_ attribute. The grid_scores_ attribute will not be available from 0.20\n",
      "  DeprecationWarning)\n"
     ]
    },
    {
     "data": {
      "text/plain": [
       "(LogisticRegression(C=0.001, class_weight=None, dual=False, fit_intercept=True,\n",
       "           intercept_scaling=1, max_iter=100, multi_class='ovr', n_jobs=1,\n",
       "           penalty='l2', random_state=None, solver='liblinear', tol=0.0001,\n",
       "           verbose=0, warm_start=False),\n",
       " {'C': 0.001},\n",
       " 0.6082706062404347,\n",
       " [mean: 0.60827, std: 0.00332, params: {'C': 0.001},\n",
       "  mean: 0.60827, std: 0.00337, params: {'C': 0.1},\n",
       "  mean: 0.60826, std: 0.00339, params: {'C': 1},\n",
       "  mean: 0.60827, std: 0.00339, params: {'C': 10},\n",
       "  mean: 0.60827, std: 0.00339, params: {'C': 100}])"
      ]
     },
     "execution_count": 106,
     "metadata": {},
     "output_type": "execute_result"
    }
   ],
   "source": [
    "# Fine-tuning the model\n",
    "Cs = [0.001, 0.1, 1, 10, 100]\n",
    "\n",
    "parameters = {'C' : Cs}\n",
    "cgrid = GridSearchCV(lr, param_grid = parameters, cv = 5)\n",
    "cgrid.fit(Xtrain, ytrain)\n",
    "cgrid.best_estimator_, cgrid.best_params_, cgrid.best_score_, cgrid.grid_scores_"
   ]
  },
  {
   "cell_type": "code",
   "execution_count": null,
   "metadata": {},
   "outputs": [],
   "source": []
  },
  {
   "cell_type": "code",
   "execution_count": null,
   "metadata": {},
   "outputs": [],
   "source": []
  },
  {
   "cell_type": "code",
   "execution_count": null,
   "metadata": {},
   "outputs": [],
   "source": []
  },
  {
   "cell_type": "code",
   "execution_count": null,
   "metadata": {},
   "outputs": [],
   "source": []
  },
  {
   "cell_type": "code",
   "execution_count": null,
   "metadata": {},
   "outputs": [],
   "source": []
  },
  {
   "cell_type": "code",
   "execution_count": null,
   "metadata": {},
   "outputs": [],
   "source": []
  },
  {
   "cell_type": "code",
   "execution_count": null,
   "metadata": {},
   "outputs": [],
   "source": []
  },
  {
   "cell_type": "code",
   "execution_count": null,
   "metadata": {},
   "outputs": [],
   "source": []
  },
  {
   "cell_type": "code",
   "execution_count": null,
   "metadata": {},
   "outputs": [],
   "source": []
  }
 ],
 "metadata": {
  "kernelspec": {
   "display_name": "Python 3",
   "language": "python",
   "name": "python3"
  },
  "language_info": {
   "codemirror_mode": {
    "name": "ipython",
    "version": 3
   },
   "file_extension": ".py",
   "mimetype": "text/x-python",
   "name": "python",
   "nbconvert_exporter": "python",
   "pygments_lexer": "ipython3",
   "version": "3.6.5"
  }
 },
 "nbformat": 4,
 "nbformat_minor": 2
}
